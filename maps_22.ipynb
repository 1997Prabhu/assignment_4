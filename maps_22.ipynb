{
 "cells": [
  {
   "cell_type": "code",
   "execution_count": 1,
   "id": "94782a11",
   "metadata": {},
   "outputs": [
    {
     "name": "stdout",
     "output_type": "stream",
     "text": [
      "Enter numbers with space only: 1 2 3 4 5 6 7\n",
      "[3, 6, 9, 12, 15, 18, 21]\n"
     ]
    }
   ],
   "source": [
    "#Write a Python program to triple all numbers of a given list of integers. Use Python map.\n",
    "#sample list: [1, 2, 3, 4, 5, 6, 7]\n",
    "#Triple of list numbers:\n",
    "#[3, 6, 9, 12, 15, 18, 21]\n",
    "\n",
    "\n",
    "\n",
    "x = list(map(int,input('Enter numbers with space only: ').split()))\n",
    "Triple_With_Map = list(map(lambda i:i*3,x))\n",
    "print(Triple_With_Map)"
   ]
  },
  {
   "cell_type": "code",
   "execution_count": null,
   "id": "86091293",
   "metadata": {},
   "outputs": [],
   "source": []
  },
  {
   "cell_type": "code",
   "execution_count": null,
   "id": "7b4b0395",
   "metadata": {},
   "outputs": [],
   "source": []
  }
 ],
 "metadata": {
  "kernelspec": {
   "display_name": "Python 3 (ipykernel)",
   "language": "python",
   "name": "python3"
  },
  "language_info": {
   "codemirror_mode": {
    "name": "ipython",
    "version": 3
   },
   "file_extension": ".py",
   "mimetype": "text/x-python",
   "name": "python",
   "nbconvert_exporter": "python",
   "pygments_lexer": "ipython3",
   "version": "3.8.0"
  }
 },
 "nbformat": 4,
 "nbformat_minor": 5
}
